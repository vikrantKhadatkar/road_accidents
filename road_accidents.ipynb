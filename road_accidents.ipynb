{
  "nbformat": 4,
  "nbformat_minor": 0,
  "metadata": {
    "colab": {
      "name": "road_accidents.ipynb",
      "provenance": []
    },
    "kernelspec": {
      "name": "python3",
      "display_name": "Python 3"
    }
  },
  "cells": [
    {
      "cell_type": "markdown",
      "metadata": {
        "id": "k1s7UsjpaMty",
        "colab_type": "text"
      },
      "source": [
        "# Road Accidents in India\n"
      ]
    },
    {
      "cell_type": "markdown",
      "metadata": {
        "id": "hT0MXhUPavJy",
        "colab_type": "text"
      },
      "source": [
        "## Exploratory Data Analysis on the datasets"
      ]
    },
    {
      "cell_type": "markdown",
      "metadata": {
        "id": "mbBoI4GOCMCm",
        "colab_type": "text"
      },
      "source": [
        "### Loading data"
      ]
    },
    {
      "cell_type": "code",
      "metadata": {
        "id": "yALHgCusaLfQ",
        "colab_type": "code",
        "colab": {
          "base_uri": "https://localhost:8080/",
          "height": 128
        },
        "outputId": "6fb8696a-12dd-4bc2-985f-cd4015f1bf87"
      },
      "source": [
        "#loading drive\n",
        "\n",
        "from google.colab import drive\n",
        "drive.mount('/content/drive/')"
      ],
      "execution_count": 1,
      "outputs": [
        {
          "output_type": "stream",
          "text": [
            "Go to this URL in a browser: https://accounts.google.com/o/oauth2/auth?client_id=947318989803-6bn6qk8qdgf4n4g3pfee6491hc0brc4i.apps.googleusercontent.com&redirect_uri=urn%3aietf%3awg%3aoauth%3a2.0%3aoob&response_type=code&scope=email%20https%3a%2f%2fwww.googleapis.com%2fauth%2fdocs.test%20https%3a%2f%2fwww.googleapis.com%2fauth%2fdrive%20https%3a%2f%2fwww.googleapis.com%2fauth%2fdrive.photos.readonly%20https%3a%2f%2fwww.googleapis.com%2fauth%2fpeopleapi.readonly\n",
            "\n",
            "Enter your authorization code:\n",
            "··········\n",
            "Mounted at /content/drive/\n"
          ],
          "name": "stdout"
        }
      ]
    },
    {
      "cell_type": "code",
      "metadata": {
        "id": "DtQocWMibCDh",
        "colab_type": "code",
        "colab": {
          "base_uri": "https://localhost:8080/",
          "height": 35
        },
        "outputId": "5a5613d0-011f-4984-91fe-0b9041878e95"
      },
      "source": [
        "cd 'drive/My Drive/motorcycle_accidents/'"
      ],
      "execution_count": 5,
      "outputs": [
        {
          "output_type": "stream",
          "text": [
            "/content/drive/My Drive/motorcycle_accidents\n"
          ],
          "name": "stdout"
        }
      ]
    },
    {
      "cell_type": "code",
      "metadata": {
        "id": "tIt_i410cCGm",
        "colab_type": "code",
        "colab": {}
      },
      "source": [
        "%matplotlib inline\n",
        "import pandas as pd\n",
        "import numpy as np\n",
        "import seaborn as sns\n",
        "import matplotlib.pyplot as plt\n",
        "import pdb"
      ],
      "execution_count": 0,
      "outputs": []
    },
    {
      "cell_type": "code",
      "metadata": {
        "id": "FzkO6ZcObHX6",
        "colab_type": "code",
        "colab": {
          "base_uri": "https://localhost:8080/",
          "height": 35
        },
        "outputId": "b93f6a68-fceb-4888-fe52-17f6f6edb5a2"
      },
      "source": [
        "# loading the first dataset\n",
        "\n",
        "accident_data = pd.read_excel('datafile.xls')"
      ],
      "execution_count": 7,
      "outputs": [
        {
          "output_type": "stream",
          "text": [
            "WARNING *** OLE2 inconsistency: SSCS size is 0 but SSAT size is non-zero\n"
          ],
          "name": "stdout"
        }
      ]
    },
    {
      "cell_type": "code",
      "metadata": {
        "id": "5MhcB6qbbf_Q",
        "colab_type": "code",
        "colab": {}
      },
      "source": [
        "accident_data"
      ],
      "execution_count": 0,
      "outputs": []
    },
    {
      "cell_type": "code",
      "metadata": {
        "id": "TR2H6U5Kbp7d",
        "colab_type": "code",
        "colab": {}
      },
      "source": [
        "accident_data.describe()"
      ],
      "execution_count": 0,
      "outputs": []
    },
    {
      "cell_type": "code",
      "metadata": {
        "id": "Ti6rWMQ_cZPg",
        "colab_type": "code",
        "colab": {}
      },
      "source": [
        "accident_data.columns.values"
      ],
      "execution_count": 0,
      "outputs": []
    },
    {
      "cell_type": "markdown",
      "metadata": {
        "id": "Wi1VEnVPb5jN",
        "colab_type": "text"
      },
      "source": [
        "### Change in number of accidents through the years"
      ]
    },
    {
      "cell_type": "code",
      "metadata": {
        "id": "cXJIKraIb_EE",
        "colab_type": "code",
        "colab": {
          "base_uri": "https://localhost:8080/",
          "height": 295
        },
        "outputId": "80838bdc-22a2-419f-aabe-907b7e3e81ac"
      },
      "source": [
        "plt.plot(accident_data['Years'], accident_data['Total Number of Road Accidents (in numbers)'])\n",
        "plt.xlabel('Years')\n",
        "plt.ylabel('Number of accidents')\n",
        "plt.title('Number of road accidents vs Years')\n",
        "plt.grid()\n",
        "plt.xticks(range(1970, 2018, 5))\n",
        "plt.show()"
      ],
      "execution_count": 22,
      "outputs": [
        {
          "output_type": "display_data",
          "data": {
            "image/png": "[encoded data removed]",
            "text/plain": [
              "<Figure size 432x288 with 1 Axes>"
            ]
          },
          "metadata": {
            "tags": [],
            "needs_background": "light"
          }
        }
      ]
    },
    {
      "cell_type": "markdown",
      "metadata": {
        "id": "vF2Cu0kUdNxg",
        "colab_type": "text"
      },
      "source": [
        "**Observation:**\n",
        "- It is clear that the number of road accidents increase through the years, however we see a sharp drop in the year 2015"
      ]
    },
    {
      "cell_type": "markdown",
      "metadata": {
        "id": "B423TrRhd39V",
        "colab_type": "text"
      },
      "source": [
        "### Change in number of accidents as number of motor vehicles increase\n"
      ]
    },
    {
      "cell_type": "code",
      "metadata": {
        "id": "ONtB9rTyd-tZ",
        "colab_type": "code",
        "colab": {
          "base_uri": "https://localhost:8080/",
          "height": 295
        },
        "outputId": "c1edd7b2-9001-425f-a981-697adf5e18ed"
      },
      "source": [
        "plt.plot(accident_data['Total Number of Registered Motor Vehicles (in thousands)'], accident_data['Total Number of Road Accidents (in numbers)'])\n",
        "plt.xlabel('Number of motor vehicles')\n",
        "plt.ylabel('Number of accidents')\n",
        "plt.title('Number of accidents vs Total Number of Registered Motor Vehicles')\n",
        "plt.grid()\n",
        "plt.show()"
      ],
      "execution_count": 29,
      "outputs": [
        {
          "output_type": "display_data",
          "data": {
            "image/png": "[encoded data removed]",
            "text/plain": [
              "<Figure size 432x288 with 1 Axes>"
            ]
          },
          "metadata": {
            "tags": [],
            "needs_background": "light"
          }
        }
      ]
    },
    {
      "cell_type": "markdown",
      "metadata": {
        "id": "65g2aIh8fCyQ",
        "colab_type": "text"
      },
      "source": [
        "**Observation:**\n",
        "- There also appears a steady rise in number of accidents with the increase of number of motor vehicles but at 1 lakh motor vehicles, the number of accidents remains stable"
      ]
    },
    {
      "cell_type": "markdown",
      "metadata": {
        "id": "PxFjGtm6fUYQ",
        "colab_type": "text"
      },
      "source": [
        "### Fatality rate of accidents"
      ]
    },
    {
      "cell_type": "code",
      "metadata": {
        "id": "NVxuFkdgg0sl",
        "colab_type": "code",
        "colab": {
          "base_uri": "https://localhost:8080/",
          "height": 300
        },
        "outputId": "6e248d4e-2119-44e2-db59-4c73960521f4"
      },
      "source": [
        "# Pie chart, where the slices will be ordered and plotted counter-clockwise:\n",
        "labels = 'Death', 'Injury'\n",
        "sizes = [accident_data['Total Number of Persons Killed (in numbers)'].sum(), accident_data['Total Number of Persons Injured (in numbers)'].sum()]\n",
        "#explode = (0, 0.1, 0, 0)  # only \"explode\" the 2nd slice (i.e. 'Hogs')\n",
        "\n",
        "fig1, ax1 = plt.subplots()\n",
        "ax1.pie(sizes, labels=labels, autopct='%1.1f%%',\n",
        "        shadow=True, startangle=90)\n",
        "ax1.axis('equal')  # Equal aspect ratio ensures that pie is drawn as a circle.\n",
        "plt.title('Deaths vs Injuries')\n",
        "plt.show()\n",
        "print('Total deaths   = ', accident_data['Total Number of Persons Killed (in numbers)'].sum())\n",
        "print('Total injuries = ', accident_data['Total Number of Persons Injured (in numbers)'].sum())"
      ],
      "execution_count": 43,
      "outputs": [
        {
          "output_type": "display_data",
          "data": {
            "image/png": "[encoded data removed]",
            "text/plain": [
              "<Figure size 432x288 with 1 Axes>"
            ]
          },
          "metadata": {
            "tags": []
          }
        },
        {
          "output_type": "stream",
          "text": [
            "Total deaths   =  2662471\n",
            "Total injuries =  11200995\n"
          ],
          "name": "stdout"
        }
      ]
    },
    {
      "cell_type": "code",
      "metadata": {
        "id": "7BLEpJE3jUrf",
        "colab_type": "code",
        "colab": {}
      },
      "source": [
        "#Loading the second dataset\n",
        "\n",
        "accident_times = pd.read_csv('only_road_accidents_data3.csv')\n",
        "accident_months = pd.read_csv('only_road_accidents_data_month2.csv')"
      ],
      "execution_count": 0,
      "outputs": []
    },
    {
      "cell_type": "markdown",
      "metadata": {
        "id": "pPUf24JyjeXQ",
        "colab_type": "text"
      },
      "source": [
        "### Is there a certain time in the day where most accidents occur?"
      ]
    },
    {
      "cell_type": "code",
      "metadata": {
        "id": "6gUfvuhgjkWV",
        "colab_type": "code",
        "colab": {
          "base_uri": "https://localhost:8080/",
          "height": 90
        },
        "outputId": "fc6dc485-695f-439e-e682-b1619dbab087"
      },
      "source": [
        "accident_times.columns.values"
      ],
      "execution_count": 45,
      "outputs": [
        {
          "output_type": "execute_result",
          "data": {
            "text/plain": [
              "array(['STATE/UT', 'YEAR', '0-3 hrs. (Night)', '3-6 hrs. (Night)',\n",
              "       '6-9 hrs (Day)', '9-12 hrs (Day)', '12-15 hrs (Day)',\n",
              "       '15-18 hrs (Day)', '18-21 hrs (Night)', '21-24 hrs (Night)',\n",
              "       'Total'], dtype=object)"
            ]
          },
          "metadata": {
            "tags": []
          },
          "execution_count": 45
        }
      ]
    },
    {
      "cell_type": "code",
      "metadata": {
        "id": "4iAVifShkuKe",
        "colab_type": "code",
        "colab": {
          "base_uri": "https://localhost:8080/",
          "height": 407
        },
        "outputId": "48b2dc7b-d9b0-42a6-8485-319228b53389"
      },
      "source": [
        "accident_times"
      ],
      "execution_count": 47,
      "outputs": [
        {
          "output_type": "execute_result",
          "data": {
            "text/html": [
              "<div>\n",
              "<style scoped>\n",
              "    .dataframe tbody tr th:only-of-type {\n",
              "        vertical-align: middle;\n",
              "    }\n",
              "\n",
              "    .dataframe tbody tr th {\n",
              "        vertical-align: top;\n",
              "    }\n",
              "\n",
              "    .dataframe thead th {\n",
              "        text-align: right;\n",
              "    }\n",
              "</style>\n",
              "<table border=\"1\" class=\"dataframe\">\n",
              "  <thead>\n",
              "    <tr style=\"text-align: right;\">\n",
              "      <th></th>\n",
              "      <th>STATE/UT</th>\n",
              "      <th>YEAR</th>\n",
              "      <th>0-3 hrs. (Night)</th>\n",
              "      <th>3-6 hrs. (Night)</th>\n",
              "      <th>6-9 hrs (Day)</th>\n",
              "      <th>9-12 hrs (Day)</th>\n",
              "      <th>12-15 hrs (Day)</th>\n",
              "      <th>15-18 hrs (Day)</th>\n",
              "      <th>18-21 hrs (Night)</th>\n",
              "      <th>21-24 hrs (Night)</th>\n",
              "      <th>Total</th>\n",
              "    </tr>\n",
              "  </thead>\n",
              "  <tbody>\n",
              "    <tr>\n",
              "      <th>0</th>\n",
              "      <td>A &amp; N Islands</td>\n",
              "      <td>2001</td>\n",
              "      <td>2</td>\n",
              "      <td>6</td>\n",
              "      <td>29</td>\n",
              "      <td>40</td>\n",
              "      <td>39</td>\n",
              "      <td>40</td>\n",
              "      <td>18</td>\n",
              "      <td>7</td>\n",
              "      <td>181</td>\n",
              "    </tr>\n",
              "    <tr>\n",
              "      <th>1</th>\n",
              "      <td>A &amp; N Islands</td>\n",
              "      <td>2002</td>\n",
              "      <td>2</td>\n",
              "      <td>6</td>\n",
              "      <td>22</td>\n",
              "      <td>41</td>\n",
              "      <td>33</td>\n",
              "      <td>33</td>\n",
              "      <td>23</td>\n",
              "      <td>8</td>\n",
              "      <td>168</td>\n",
              "    </tr>\n",
              "    <tr>\n",
              "      <th>2</th>\n",
              "      <td>A &amp; N Islands</td>\n",
              "      <td>2003</td>\n",
              "      <td>2</td>\n",
              "      <td>8</td>\n",
              "      <td>31</td>\n",
              "      <td>35</td>\n",
              "      <td>28</td>\n",
              "      <td>36</td>\n",
              "      <td>25</td>\n",
              "      <td>15</td>\n",
              "      <td>180</td>\n",
              "    </tr>\n",
              "    <tr>\n",
              "      <th>3</th>\n",
              "      <td>A &amp; N Islands</td>\n",
              "      <td>2004</td>\n",
              "      <td>2</td>\n",
              "      <td>5</td>\n",
              "      <td>29</td>\n",
              "      <td>42</td>\n",
              "      <td>43</td>\n",
              "      <td>43</td>\n",
              "      <td>37</td>\n",
              "      <td>14</td>\n",
              "      <td>215</td>\n",
              "    </tr>\n",
              "    <tr>\n",
              "      <th>4</th>\n",
              "      <td>A &amp; N Islands</td>\n",
              "      <td>2005</td>\n",
              "      <td>0</td>\n",
              "      <td>8</td>\n",
              "      <td>27</td>\n",
              "      <td>28</td>\n",
              "      <td>38</td>\n",
              "      <td>42</td>\n",
              "      <td>50</td>\n",
              "      <td>13</td>\n",
              "      <td>206</td>\n",
              "    </tr>\n",
              "    <tr>\n",
              "      <th>...</th>\n",
              "      <td>...</td>\n",
              "      <td>...</td>\n",
              "      <td>...</td>\n",
              "      <td>...</td>\n",
              "      <td>...</td>\n",
              "      <td>...</td>\n",
              "      <td>...</td>\n",
              "      <td>...</td>\n",
              "      <td>...</td>\n",
              "      <td>...</td>\n",
              "      <td>...</td>\n",
              "    </tr>\n",
              "    <tr>\n",
              "      <th>485</th>\n",
              "      <td>West Bengal</td>\n",
              "      <td>2010</td>\n",
              "      <td>1241</td>\n",
              "      <td>1397</td>\n",
              "      <td>1721</td>\n",
              "      <td>2508</td>\n",
              "      <td>2272</td>\n",
              "      <td>2296</td>\n",
              "      <td>1831</td>\n",
              "      <td>1459</td>\n",
              "      <td>14725</td>\n",
              "    </tr>\n",
              "    <tr>\n",
              "      <th>486</th>\n",
              "      <td>West Bengal</td>\n",
              "      <td>2011</td>\n",
              "      <td>1200</td>\n",
              "      <td>1493</td>\n",
              "      <td>1687</td>\n",
              "      <td>2553</td>\n",
              "      <td>2182</td>\n",
              "      <td>2196</td>\n",
              "      <td>1812</td>\n",
              "      <td>1345</td>\n",
              "      <td>14468</td>\n",
              "    </tr>\n",
              "    <tr>\n",
              "      <th>487</th>\n",
              "      <td>West Bengal</td>\n",
              "      <td>2012</td>\n",
              "      <td>1346</td>\n",
              "      <td>1511</td>\n",
              "      <td>1837</td>\n",
              "      <td>2831</td>\n",
              "      <td>2328</td>\n",
              "      <td>2268</td>\n",
              "      <td>1966</td>\n",
              "      <td>1521</td>\n",
              "      <td>15608</td>\n",
              "    </tr>\n",
              "    <tr>\n",
              "      <th>488</th>\n",
              "      <td>West Bengal</td>\n",
              "      <td>2013</td>\n",
              "      <td>1442</td>\n",
              "      <td>1911</td>\n",
              "      <td>2136</td>\n",
              "      <td>2900</td>\n",
              "      <td>2246</td>\n",
              "      <td>2366</td>\n",
              "      <td>2137</td>\n",
              "      <td>1411</td>\n",
              "      <td>16549</td>\n",
              "    </tr>\n",
              "    <tr>\n",
              "      <th>489</th>\n",
              "      <td>West Bengal</td>\n",
              "      <td>2014</td>\n",
              "      <td>1455</td>\n",
              "      <td>1634</td>\n",
              "      <td>2022</td>\n",
              "      <td>2998</td>\n",
              "      <td>2570</td>\n",
              "      <td>2458</td>\n",
              "      <td>2132</td>\n",
              "      <td>1836</td>\n",
              "      <td>17105</td>\n",
              "    </tr>\n",
              "  </tbody>\n",
              "</table>\n",
              "<p>490 rows × 11 columns</p>\n",
              "</div>"
            ],
            "text/plain": [
              "          STATE/UT  YEAR  ...  21-24 hrs (Night)  Total\n",
              "0    A & N Islands  2001  ...                  7    181\n",
              "1    A & N Islands  2002  ...                  8    168\n",
              "2    A & N Islands  2003  ...                 15    180\n",
              "3    A & N Islands  2004  ...                 14    215\n",
              "4    A & N Islands  2005  ...                 13    206\n",
              "..             ...   ...  ...                ...    ...\n",
              "485    West Bengal  2010  ...               1459  14725\n",
              "486    West Bengal  2011  ...               1345  14468\n",
              "487    West Bengal  2012  ...               1521  15608\n",
              "488    West Bengal  2013  ...               1411  16549\n",
              "489    West Bengal  2014  ...               1836  17105\n",
              "\n",
              "[490 rows x 11 columns]"
            ]
          },
          "metadata": {
            "tags": []
          },
          "execution_count": 47
        }
      ]
    },
    {
      "cell_type": "code",
      "metadata": {
        "id": "sFEYoX98jnxn",
        "colab_type": "code",
        "colab": {
          "base_uri": "https://localhost:8080/",
          "height": 366
        },
        "outputId": "f5e7daa7-d59d-47af-c755-4533ea6ad6aa"
      },
      "source": [
        "fig = plt.figure()\n",
        "ax = fig.add_axes([0,0,1,1])\n",
        "plt.title('Number of accidents vs Time')\n",
        "plt.xlabel('Time')\n",
        "plt.ylabel('Number of accidents')\n",
        "labels = ['12AM-3AM', '3AM-6AM', '6AM-9AM', '9AM-12PM', '12PM-3PM', '3PM-6PM', '6PM-9PM', '9PM-12AM']\n",
        "times = [accident_times['0-3 hrs. (Night)'].sum(), accident_times['3-6 hrs. (Night)'].sum(), accident_times['6-9 hrs (Day)'].sum(), accident_times['9-12 hrs (Day)'].sum(), accident_times['12-15 hrs (Day)'].sum(), accident_times['15-18 hrs (Day)'].sum(), accident_times['18-21 hrs (Night)'].sum(), accident_times['21-24 hrs (Night)'].sum()]\n",
        "ax.bar(labels,times)\n",
        "plt.show()"
      ],
      "execution_count": 159,
      "outputs": [
        {
          "output_type": "display_data",
          "data": {
            "image/png": "[encoded data removed]",
            "text/plain": [
              "<Figure size 432x288 with 1 Axes>"
            ]
          },
          "metadata": {
            "tags": [],
            "needs_background": "light"
          }
        }
      ]
    },
    {
      "cell_type": "markdown",
      "metadata": {
        "id": "oQYYSYzflBcI",
        "colab_type": "text"
      },
      "source": [
        "**Observation:**\n",
        "- Most accidents occur during peak hour traffic, that is, between 9AM and 9PM"
      ]
    },
    {
      "cell_type": "markdown",
      "metadata": {
        "id": "Xdt2h10IlQCC",
        "colab_type": "text"
      },
      "source": [
        ""
      ]
    },
    {
      "cell_type": "markdown",
      "metadata": {
        "id": "GBKyVJTClcpY",
        "colab_type": "text"
      },
      "source": [
        "### Accidents statistics based on States"
      ]
    },
    {
      "cell_type": "code",
      "metadata": {
        "id": "itd7wzpElg4D",
        "colab_type": "code",
        "colab": {}
      },
      "source": [
        "states = accident_times['STATE/UT'].unique()"
      ],
      "execution_count": 0,
      "outputs": []
    },
    {
      "cell_type": "code",
      "metadata": {
        "id": "4rHHCI-ToR1r",
        "colab_type": "code",
        "colab": {
          "base_uri": "https://localhost:8080/",
          "height": 72
        },
        "outputId": "084a4d8a-1af0-4a3b-d4e2-619e3228480a"
      },
      "source": [
        "accident_months.columns.values"
      ],
      "execution_count": 59,
      "outputs": [
        {
          "output_type": "execute_result",
          "data": {
            "text/plain": [
              "array(['STATE/UT', 'YEAR', 'JANUARY', 'FEBRUARY', 'MARCH', 'APRIL', 'MAY',\n",
              "       'JUNE', 'JULY', 'AUGUST', 'SEPTEMBER', 'OCTOBER', 'NOVEMBER',\n",
              "       'DECEMBER', 'TOTAL'], dtype=object)"
            ]
          },
          "metadata": {
            "tags": []
          },
          "execution_count": 59
        }
      ]
    },
    {
      "cell_type": "code",
      "metadata": {
        "id": "sV7g719LxhrT",
        "colab_type": "code",
        "colab": {
          "base_uri": "https://localhost:8080/",
          "height": 228
        },
        "outputId": "cec1ce8e-5c89-48c2-ac94-2bf67f9c77c1"
      },
      "source": [
        "state_year_month_df = accident_months.copy()\n",
        "\n",
        "state_year_month_df['SUMMER']=state_year_month_df[['JUNE','JULY','AUGUST']].sum(axis=1)\n",
        "state_year_month_df['AUTUMN']=state_year_month_df[['SEPTEMBER','OCTOBER','NOVEMBER']].sum(axis=1)\n",
        "state_year_month_df['WINTER']=state_year_month_df[['DECEMBER','JANUARY','FEBRUARY']].sum(axis=1)\n",
        "state_year_month_df['SPRING']=state_year_month_df[['MARCH','APRIL','MAY']].sum(axis=1)\n",
        "\n",
        "#Delete month columns..\n",
        "state_year_month_df=state_year_month_df.drop(['JANUARY','FEBRUARY','MARCH','APRIL','MAY','JUNE','JULY'\n",
        "                                             ,'AUGUST','SEPTEMBER','OCTOBER','NOVEMBER','DECEMBER'], axis=1)\n",
        "#Create groups of states, summing the values of accident number for each year..\n",
        "state_grouped=state_year_month_df.groupby(['STATE/UT']).sum()\n",
        "'''\n",
        "#Create % columns for noting the % of accidents happening in each state for each season..\n",
        "state_grouped['%_SUMMER']=state_grouped['SUMMER']/state_grouped['TOTAL']\n",
        "state_grouped['%_AUTUMN']=state_grouped['AUTUMN']/state_grouped['TOTAL']\n",
        "state_grouped['%_WINTER']=state_grouped['WINTER']/state_grouped['TOTAL']\n",
        "state_grouped['%_SPRING']=state_grouped['SPRING']/state_grouped['TOTAL']\n",
        "'''\n",
        "display(state_grouped.iloc[:,:].head())"
      ],
      "execution_count": 108,
      "outputs": [
        {
          "output_type": "display_data",
          "data": {
            "text/html": [
              "<div>\n",
              "<style scoped>\n",
              "    .dataframe tbody tr th:only-of-type {\n",
              "        vertical-align: middle;\n",
              "    }\n",
              "\n",
              "    .dataframe tbody tr th {\n",
              "        vertical-align: top;\n",
              "    }\n",
              "\n",
              "    .dataframe thead th {\n",
              "        text-align: right;\n",
              "    }\n",
              "</style>\n",
              "<table border=\"1\" class=\"dataframe\">\n",
              "  <thead>\n",
              "    <tr style=\"text-align: right;\">\n",
              "      <th></th>\n",
              "      <th>YEAR</th>\n",
              "      <th>TOTAL</th>\n",
              "      <th>SUMMER</th>\n",
              "      <th>AUTUMN</th>\n",
              "      <th>WINTER</th>\n",
              "      <th>SPRING</th>\n",
              "    </tr>\n",
              "    <tr>\n",
              "      <th>STATE/UT</th>\n",
              "      <th></th>\n",
              "      <th></th>\n",
              "      <th></th>\n",
              "      <th></th>\n",
              "      <th></th>\n",
              "      <th></th>\n",
              "    </tr>\n",
              "  </thead>\n",
              "  <tbody>\n",
              "    <tr>\n",
              "      <th>A &amp; N Islands</th>\n",
              "      <td>28105</td>\n",
              "      <td>2893</td>\n",
              "      <td>689</td>\n",
              "      <td>710</td>\n",
              "      <td>779</td>\n",
              "      <td>715</td>\n",
              "    </tr>\n",
              "    <tr>\n",
              "      <th>Andhra Pradesh</th>\n",
              "      <td>28105</td>\n",
              "      <td>546821</td>\n",
              "      <td>132891</td>\n",
              "      <td>129230</td>\n",
              "      <td>138633</td>\n",
              "      <td>146067</td>\n",
              "    </tr>\n",
              "    <tr>\n",
              "      <th>Arunachal Pradesh</th>\n",
              "      <td>28105</td>\n",
              "      <td>3389</td>\n",
              "      <td>748</td>\n",
              "      <td>875</td>\n",
              "      <td>920</td>\n",
              "      <td>846</td>\n",
              "    </tr>\n",
              "    <tr>\n",
              "      <th>Assam</th>\n",
              "      <td>28105</td>\n",
              "      <td>61718</td>\n",
              "      <td>14696</td>\n",
              "      <td>15382</td>\n",
              "      <td>15671</td>\n",
              "      <td>15969</td>\n",
              "    </tr>\n",
              "    <tr>\n",
              "      <th>Bihar</th>\n",
              "      <td>28105</td>\n",
              "      <td>92648</td>\n",
              "      <td>23506</td>\n",
              "      <td>20866</td>\n",
              "      <td>21994</td>\n",
              "      <td>26282</td>\n",
              "    </tr>\n",
              "  </tbody>\n",
              "</table>\n",
              "</div>"
            ],
            "text/plain": [
              "                    YEAR   TOTAL  SUMMER  AUTUMN  WINTER  SPRING\n",
              "STATE/UT                                                        \n",
              "A & N Islands      28105    2893     689     710     779     715\n",
              "Andhra Pradesh     28105  546821  132891  129230  138633  146067\n",
              "Arunachal Pradesh  28105    3389     748     875     920     846\n",
              "Assam              28105   61718   14696   15382   15671   15969\n",
              "Bihar              28105   92648   23506   20866   21994   26282"
            ]
          },
          "metadata": {
            "tags": []
          }
        }
      ]
    },
    {
      "cell_type": "code",
      "metadata": {
        "id": "e9Rk5S_Bxnvw",
        "colab_type": "code",
        "colab": {
          "base_uri": "https://localhost:8080/",
          "height": 350
        },
        "outputId": "5f25231d-4f60-43c5-c549-a245ace46459"
      },
      "source": [
        "highest_accident_states=state_grouped.sort_values('TOTAL', ascending=False)\n",
        "high_states=list(highest_accident_states.head().index)\n",
        "df4=state_year_month_df.loc[state_year_month_df['STATE/UT'].isin(high_states),['STATE/UT','YEAR','TOTAL']]\n",
        "\n",
        "plt.figure(figsize=(10,5))\n",
        "ax=plt.subplot(111)\n",
        "for key, grp in df4.groupby(['STATE/UT']):\n",
        "    ax = grp.plot(ax=ax, kind='line', x='YEAR', y='TOTAL', label=key)\n",
        "  \n",
        "plt.xlabel('Year')\n",
        "plt.ylabel('Total accidents')\n",
        "plt.title('State-wise yearly accidents')\n",
        "plt.show()"
      ],
      "execution_count": 110,
      "outputs": [
        {
          "output_type": "display_data",
          "data": {
            "image/png": "[encoded data removed]",
            "text/plain": [
              "<Figure size 720x360 with 1 Axes>"
            ]
          },
          "metadata": {
            "tags": [],
            "needs_background": "light"
          }
        }
      ]
    },
    {
      "cell_type": "markdown",
      "metadata": {
        "id": "PIhEcTDyy3O7",
        "colab_type": "text"
      },
      "source": [
        "**Observation:**\n",
        "- We can see that Tamil Nadu has had a higher increase in the total accidents but there's an unusual spike during the year 2005"
      ]
    },
    {
      "cell_type": "code",
      "metadata": {
        "id": "9-vVMOCVy5HK",
        "colab_type": "code",
        "colab": {}
      },
      "source": [
        ""
      ],
      "execution_count": 0,
      "outputs": []
    },
    {
      "cell_type": "code",
      "metadata": {
        "id": "NIHbsbfGz4xV",
        "colab_type": "code",
        "colab": {}
      },
      "source": [
        ""
      ],
      "execution_count": 0,
      "outputs": []
    },
    {
      "cell_type": "markdown",
      "metadata": {
        "id": "8xxc3Soqz6bm",
        "colab_type": "text"
      },
      "source": [
        "### Cause of accidents"
      ]
    },
    {
      "cell_type": "markdown",
      "metadata": {
        "id": "dbbsj6P0z_M5",
        "colab_type": "text"
      },
      "source": [
        "### No safety gear, that is, no helmet or seat belt"
      ]
    },
    {
      "cell_type": "code",
      "metadata": {
        "id": "gCmGjjfz2GkO",
        "colab_type": "code",
        "colab": {
          "base_uri": "https://localhost:8080/",
          "height": 35
        },
        "outputId": "9079987b-5bfb-47b6-8828-4d51ab86c089"
      },
      "source": [
        "safety_equip = pd.read_excel('no_safety.xls')"
      ],
      "execution_count": 127,
      "outputs": [
        {
          "output_type": "stream",
          "text": [
            "WARNING *** OLE2 inconsistency: SSCS size is 0 but SSAT size is non-zero\n"
          ],
          "name": "stdout"
        }
      ]
    },
    {
      "cell_type": "code",
      "metadata": {
        "id": "UnDVYAim7LaB",
        "colab_type": "code",
        "colab": {
          "base_uri": "https://localhost:8080/",
          "height": 285
        },
        "outputId": "0d94c5fa-95df-47a7-df17-183424dccebe"
      },
      "source": [
        "safety_equip.head()"
      ],
      "execution_count": 138,
      "outputs": [
        {
          "output_type": "execute_result",
          "data": {
            "text/html": [
              "<div>\n",
              "<style scoped>\n",
              "    .dataframe tbody tr th:only-of-type {\n",
              "        vertical-align: middle;\n",
              "    }\n",
              "\n",
              "    .dataframe tbody tr th {\n",
              "        vertical-align: top;\n",
              "    }\n",
              "\n",
              "    .dataframe thead th {\n",
              "        text-align: right;\n",
              "    }\n",
              "</style>\n",
              "<table border=\"1\" class=\"dataframe\">\n",
              "  <thead>\n",
              "    <tr style=\"text-align: right;\">\n",
              "      <th></th>\n",
              "      <th>States/UTs</th>\n",
              "      <th>Drivers - Persons Killed - Yes</th>\n",
              "      <th>Drivers - Persons Killed - No</th>\n",
              "      <th>Drivers - Grievously Injured - Yes</th>\n",
              "      <th>Drivers - Grievously Injured - No</th>\n",
              "      <th>Drivers - Minor Injured - Yes</th>\n",
              "      <th>Drivers - Minor Injured - No</th>\n",
              "      <th>Drivers - Non Injured - Yes</th>\n",
              "      <th>Drivers - Non Injured - No</th>\n",
              "      <th>Passengers - Persons Killed - Yes</th>\n",
              "      <th>Passengers - Persons Killed - No</th>\n",
              "      <th>Passengers - Grievously Injured - Yes</th>\n",
              "      <th>Passengers - Grievously Injured - No</th>\n",
              "      <th>Passengers - Minor Injured - Yes</th>\n",
              "      <th>Passengers - Minor Injured - No</th>\n",
              "      <th>Passengers - Non Injured - Yes</th>\n",
              "      <th>Passengers - Non Injured - No</th>\n",
              "    </tr>\n",
              "  </thead>\n",
              "  <tbody>\n",
              "    <tr>\n",
              "      <th>0</th>\n",
              "      <td>Andhra Pradesh</td>\n",
              "      <td>441</td>\n",
              "      <td>369</td>\n",
              "      <td>916</td>\n",
              "      <td>290</td>\n",
              "      <td>2016</td>\n",
              "      <td>470</td>\n",
              "      <td>561</td>\n",
              "      <td>1567</td>\n",
              "      <td>432</td>\n",
              "      <td>265</td>\n",
              "      <td>810</td>\n",
              "      <td>33</td>\n",
              "      <td>1540</td>\n",
              "      <td>507</td>\n",
              "      <td>460</td>\n",
              "      <td>1877</td>\n",
              "    </tr>\n",
              "    <tr>\n",
              "      <th>1</th>\n",
              "      <td>Arunachal Pradesh</td>\n",
              "      <td>2</td>\n",
              "      <td>1</td>\n",
              "      <td>9</td>\n",
              "      <td>4</td>\n",
              "      <td>1</td>\n",
              "      <td>0</td>\n",
              "      <td>0</td>\n",
              "      <td>0</td>\n",
              "      <td>13</td>\n",
              "      <td>2</td>\n",
              "      <td>46</td>\n",
              "      <td>13</td>\n",
              "      <td>37</td>\n",
              "      <td>7</td>\n",
              "      <td>4</td>\n",
              "      <td>0</td>\n",
              "    </tr>\n",
              "    <tr>\n",
              "      <th>2</th>\n",
              "      <td>Assam</td>\n",
              "      <td>252</td>\n",
              "      <td>71</td>\n",
              "      <td>208</td>\n",
              "      <td>184</td>\n",
              "      <td>88</td>\n",
              "      <td>61</td>\n",
              "      <td>0</td>\n",
              "      <td>0</td>\n",
              "      <td>356</td>\n",
              "      <td>350</td>\n",
              "      <td>624</td>\n",
              "      <td>760</td>\n",
              "      <td>171</td>\n",
              "      <td>81</td>\n",
              "      <td>0</td>\n",
              "      <td>0</td>\n",
              "    </tr>\n",
              "    <tr>\n",
              "      <th>3</th>\n",
              "      <td>Bihar</td>\n",
              "      <td>306</td>\n",
              "      <td>0</td>\n",
              "      <td>284</td>\n",
              "      <td>0</td>\n",
              "      <td>122</td>\n",
              "      <td>0</td>\n",
              "      <td>163</td>\n",
              "      <td>0</td>\n",
              "      <td>564</td>\n",
              "      <td>1276</td>\n",
              "      <td>497</td>\n",
              "      <td>1055</td>\n",
              "      <td>250</td>\n",
              "      <td>400</td>\n",
              "      <td>0</td>\n",
              "      <td>0</td>\n",
              "    </tr>\n",
              "    <tr>\n",
              "      <th>4</th>\n",
              "      <td>Chhattisgarh</td>\n",
              "      <td>46</td>\n",
              "      <td>200</td>\n",
              "      <td>50</td>\n",
              "      <td>143</td>\n",
              "      <td>132</td>\n",
              "      <td>385</td>\n",
              "      <td>37</td>\n",
              "      <td>11</td>\n",
              "      <td>14</td>\n",
              "      <td>279</td>\n",
              "      <td>29</td>\n",
              "      <td>183</td>\n",
              "      <td>75</td>\n",
              "      <td>1146</td>\n",
              "      <td>3</td>\n",
              "      <td>1</td>\n",
              "    </tr>\n",
              "  </tbody>\n",
              "</table>\n",
              "</div>"
            ],
            "text/plain": [
              "          States/UTs  ...  Passengers - Non Injured - No\n",
              "0     Andhra Pradesh  ...                           1877\n",
              "1  Arunachal Pradesh  ...                              0\n",
              "2              Assam  ...                              0\n",
              "3              Bihar  ...                              0\n",
              "4       Chhattisgarh  ...                              1\n",
              "\n",
              "[5 rows x 17 columns]"
            ]
          },
          "metadata": {
            "tags": []
          },
          "execution_count": 138
        }
      ]
    },
    {
      "cell_type": "code",
      "metadata": {
        "id": "XeLUIP3N7lHI",
        "colab_type": "code",
        "colab": {
          "base_uri": "https://localhost:8080/",
          "height": 366
        },
        "outputId": "c34b1930-7fe9-4903-91b2-bf2043d2e219"
      },
      "source": [
        "fig = plt.figure()\n",
        "ax = fig.add_axes([0, 0, 1, 1])\n",
        "labels = ['Killed', 'Not Killed']\n",
        "drivers = [safety_equip['Drivers - Persons Killed - Yes'].values[-1], safety_equip['Drivers - Persons Killed - No'].values[-1]]\n",
        "plt.ylabel('Number of cases')\n",
        "plt.xlabel('Status')\n",
        "plt.title('Drivers and passengers WITHOUT safety equipment (helmet/belt)')\n",
        "ax.bar(labels,drivers)\n",
        "plt.show()"
      ],
      "execution_count": 163,
      "outputs": [
        {
          "output_type": "display_data",
          "data": {
            "image/png": "[encoded data removed]",
            "text/plain": [
              "<Figure size 432x288 with 1 Axes>"
            ]
          },
          "metadata": {
            "tags": [],
            "needs_background": "light"
          }
        }
      ]
    },
    {
      "cell_type": "markdown",
      "metadata": {
        "id": "LtQbviX69rza",
        "colab_type": "text"
      },
      "source": [
        "### Road conditions"
      ]
    },
    {
      "cell_type": "code",
      "metadata": {
        "id": "5Q_LVN0a94RM",
        "colab_type": "code",
        "colab": {
          "base_uri": "https://localhost:8080/",
          "height": 35
        },
        "outputId": "69f6b724-49c2-4838-c884-47afce88ba52"
      },
      "source": [
        "road_conditions = pd.read_excel('road_environment.xls', usecols=['Residential Area - Total Accidents', 'Institutional Area - Total Accidents', 'Market/Commercial area - Total Accidents', 'Open Area - Total Accidents', 'Others - Total Accidents'])"
      ],
      "execution_count": 139,
      "outputs": [
        {
          "output_type": "stream",
          "text": [
            "WARNING *** OLE2 inconsistency: SSCS size is 0 but SSAT size is non-zero\n"
          ],
          "name": "stdout"
        }
      ]
    },
    {
      "cell_type": "code",
      "metadata": {
        "id": "FwKk0L-N-fGi",
        "colab_type": "code",
        "colab": {
          "base_uri": "https://localhost:8080/",
          "height": 366
        },
        "outputId": "1dbdec0f-5b8d-49dc-ceb1-d6a2acbefc00"
      },
      "source": [
        "fig = plt.figure()\n",
        "ax = fig.add_axes([0, 0, 1, 1])\n",
        "labels = ['Residential', 'Instituional', 'Commercial', 'Open', 'Other']\n",
        "condition = [road_conditions['Residential Area - Total Accidents'].values[-1], road_conditions['Institutional Area - Total Accidents'].values[-1], road_conditions['Market/Commercial area - Total Accidents'].values[-1], road_conditions['Open Area - Total Accidents'].values[-1], road_conditions['Others - Total Accidents'].values[-1]]\n",
        "plt.ylabel('Number of accidents')\n",
        "plt.title('Number of accidents vs Road conditions')\n",
        "plt.xlabel('Road Condition')\n",
        "ax.bar(labels,condition)\n",
        "plt.show()"
      ],
      "execution_count": 161,
      "outputs": [
        {
          "output_type": "display_data",
          "data": {
            "image/png": "[encoded data removed]",
            "text/plain": [
              "<Figure size 432x288 with 1 Axes>"
            ]
          },
          "metadata": {
            "tags": [],
            "needs_background": "light"
          }
        }
      ]
    },
    {
      "cell_type": "markdown",
      "metadata": {
        "id": "Fapp-SlQAWAY",
        "colab_type": "text"
      },
      "source": [
        "**Observation:**\n",
        "- We observe that open roads witness significantly more number of accidents than other places"
      ]
    },
    {
      "cell_type": "markdown",
      "metadata": {
        "id": "Z4Fc11LcAfbj",
        "colab_type": "text"
      },
      "source": [
        "### Driver's license"
      ]
    },
    {
      "cell_type": "code",
      "metadata": {
        "id": "d-YPnsC_Aiw9",
        "colab_type": "code",
        "colab": {
          "base_uri": "https://localhost:8080/",
          "height": 35
        },
        "outputId": "bc7ea7b7-897a-4b4e-aa14-cc1869c6ebf3"
      },
      "source": [
        "license_data = pd.read_excel('license.xls')\n",
        "license_data = license_data.drop(['Licence not known'], axis=1)"
      ],
      "execution_count": 147,
      "outputs": [
        {
          "output_type": "stream",
          "text": [
            "WARNING *** OLE2 inconsistency: SSCS size is 0 but SSAT size is non-zero\n"
          ],
          "name": "stdout"
        }
      ]
    },
    {
      "cell_type": "code",
      "metadata": {
        "id": "kHT4pfaIA3_Z",
        "colab_type": "code",
        "colab": {
          "base_uri": "https://localhost:8080/",
          "height": 198
        },
        "outputId": "e50c4784-c57f-42e5-e14c-ba017e766e19"
      },
      "source": [
        "license_data.head()"
      ],
      "execution_count": 150,
      "outputs": [
        {
          "output_type": "execute_result",
          "data": {
            "text/html": [
              "<div>\n",
              "<style scoped>\n",
              "    .dataframe tbody tr th:only-of-type {\n",
              "        vertical-align: middle;\n",
              "    }\n",
              "\n",
              "    .dataframe tbody tr th {\n",
              "        vertical-align: top;\n",
              "    }\n",
              "\n",
              "    .dataframe thead th {\n",
              "        text-align: right;\n",
              "    }\n",
              "</style>\n",
              "<table border=\"1\" class=\"dataframe\">\n",
              "  <thead>\n",
              "    <tr style=\"text-align: right;\">\n",
              "      <th></th>\n",
              "      <th>States/UTs</th>\n",
              "      <th>Valid Permanent License</th>\n",
              "      <th>Learner's Licence</th>\n",
              "      <th>Without Licence</th>\n",
              "    </tr>\n",
              "  </thead>\n",
              "  <tbody>\n",
              "    <tr>\n",
              "      <th>0</th>\n",
              "      <td>Andhra Pradesh</td>\n",
              "      <td>20848</td>\n",
              "      <td>1193</td>\n",
              "      <td>3686</td>\n",
              "    </tr>\n",
              "    <tr>\n",
              "      <th>1</th>\n",
              "      <td>Arunachal Pradesh</td>\n",
              "      <td>100</td>\n",
              "      <td>85</td>\n",
              "      <td>56</td>\n",
              "    </tr>\n",
              "    <tr>\n",
              "      <th>2</th>\n",
              "      <td>Assam</td>\n",
              "      <td>6204</td>\n",
              "      <td>513</td>\n",
              "      <td>453</td>\n",
              "    </tr>\n",
              "    <tr>\n",
              "      <th>3</th>\n",
              "      <td>Bihar</td>\n",
              "      <td>7120</td>\n",
              "      <td>1310</td>\n",
              "      <td>425</td>\n",
              "    </tr>\n",
              "    <tr>\n",
              "      <th>4</th>\n",
              "      <td>Chhattisgarh</td>\n",
              "      <td>8918</td>\n",
              "      <td>2360</td>\n",
              "      <td>2285</td>\n",
              "    </tr>\n",
              "  </tbody>\n",
              "</table>\n",
              "</div>"
            ],
            "text/plain": [
              "          States/UTs  ...  Without Licence\n",
              "0     Andhra Pradesh  ...             3686\n",
              "1  Arunachal Pradesh  ...               56\n",
              "2              Assam  ...              453\n",
              "3              Bihar  ...              425\n",
              "4       Chhattisgarh  ...             2285\n",
              "\n",
              "[5 rows x 4 columns]"
            ]
          },
          "metadata": {
            "tags": []
          },
          "execution_count": 150
        }
      ]
    },
    {
      "cell_type": "code",
      "metadata": {
        "id": "Vp72AlrdA-6H",
        "colab_type": "code",
        "colab": {
          "base_uri": "https://localhost:8080/",
          "height": 366
        },
        "outputId": "6db5c033-7411-4cc0-f224-f0180fed0887"
      },
      "source": [
        "fig = plt.figure()\n",
        "ax = fig.add_axes([0, 0, 1, 1])\n",
        "labels = license_data.columns.values[1:]\n",
        "condition = [license_data['Valid Permanent License'].values[-1], license_data['Learner\\'s Licence'].values[-1], license_data['Without Licence'].values[-1]]\n",
        "plt.ylabel('Number of accidents')\n",
        "plt.title('Number of accidents vs Driver\\'s license')\n",
        "plt.xlabel('Driver\\'s License Level')\n",
        "ax.bar(labels,condition)\n",
        "plt.show()"
      ],
      "execution_count": 164,
      "outputs": [
        {
          "output_type": "display_data",
          "data": {
            "image/png": "[encoded data removed]",
            "text/plain": [
              "<Figure size 432x288 with 1 Axes>"
            ]
          },
          "metadata": {
            "tags": [],
            "needs_background": "light"
          }
        }
      ]
    },
    {
      "cell_type": "markdown",
      "metadata": {
        "id": "pATg4qsGBprF",
        "colab_type": "text"
      },
      "source": [
        "**Observation:**\n",
        "- Expectedly, most accidents are seen by Valid permanent license holders because of their majority. However, it is interesting to see that there are more drivers who met with an accident without a license than with a learner's license"
      ]
    },
    {
      "cell_type": "markdown",
      "metadata": {
        "id": "G8TO4btXCFI2",
        "colab_type": "text"
      },
      "source": [
        "### Weather conditions"
      ]
    },
    {
      "cell_type": "code",
      "metadata": {
        "id": "jN6sk5qaCGy4",
        "colab_type": "code",
        "colab": {
          "base_uri": "https://localhost:8080/",
          "height": 35
        },
        "outputId": "34bc2b8b-2467-4e80-af96-b69a094bb619"
      },
      "source": [
        "weather_condition = pd.read_excel('climate.xls', usecols=['Sunny/Clear - Total Accidents', 'Rainy - Total Accidents', 'Foggy & Misty - Total Accidents', 'Hail/Sleet - Total Accidents', 'Others - Total Accidents'])"
      ],
      "execution_count": 153,
      "outputs": [
        {
          "output_type": "stream",
          "text": [
            "WARNING *** OLE2 inconsistency: SSCS size is 0 but SSAT size is non-zero\n"
          ],
          "name": "stdout"
        }
      ]
    },
    {
      "cell_type": "code",
      "metadata": {
        "id": "_EKnCzS4DjtT",
        "colab_type": "code",
        "colab": {
          "base_uri": "https://localhost:8080/",
          "height": 366
        },
        "outputId": "79e6e854-38ba-403b-f2f1-876deb012a94"
      },
      "source": [
        "fig = plt.figure()\n",
        "ax = fig.add_axes([0, 0, 1, 1])\n",
        "labels = ['Sunny', 'Rainy', 'Foggy', 'Hail', 'Others']\n",
        "condition = [weather_condition['Sunny/Clear - Total Accidents'].values[-1], weather_condition['Rainy - Total Accidents'].values[-1], weather_condition['Foggy & Misty - Total Accidents'].values[-1], weather_condition['Hail/Sleet - Total Accidents'].values[-1], weather_condition['Others - Total Accidents'].values[-1]]\n",
        "plt.ylabel('Number of accidents')\n",
        "plt.title('Number of accidents vs Weather condition')\n",
        "plt.xlabel('Weather condition')\n",
        "ax.bar(labels,condition)\n",
        "plt.show()"
      ],
      "execution_count": 162,
      "outputs": [
        {
          "output_type": "display_data",
          "data": {
            "image/png": "[encoded data removed]",
            "text/plain": [
              "<Figure size 432x288 with 1 Axes>"
            ]
          },
          "metadata": {
            "tags": [],
            "needs_background": "light"
          }
        }
      ]
    },
    {
      "cell_type": "markdown",
      "metadata": {
        "id": "wxxa0Hr0WaE1",
        "colab_type": "text"
      },
      "source": [
        "## Checking for correlation"
      ]
    },
    {
      "cell_type": "code",
      "metadata": {
        "id": "GtaQTh0IWcF6",
        "colab_type": "code",
        "colab": {}
      },
      "source": [
        "countries_details = pd.read_csv('countries of the world.csv')"
      ],
      "execution_count": 0,
      "outputs": []
    },
    {
      "cell_type": "code",
      "metadata": {
        "id": "z8PgE-j0XyaU",
        "colab_type": "code",
        "colab": {}
      },
      "source": [
        "countries_accidents = pd.read_csv('countries_accidents.csv')"
      ],
      "execution_count": 0,
      "outputs": []
    },
    {
      "cell_type": "code",
      "metadata": {
        "id": "Xpyql_4WWqmn",
        "colab_type": "code",
        "colab": {
          "base_uri": "https://localhost:8080/",
          "height": 354
        },
        "outputId": "698159e9-67dd-4457-aff5-6a8411594d43"
      },
      "source": [
        "countries_details.head()"
      ],
      "execution_count": 233,
      "outputs": [
        {
          "output_type": "execute_result",
          "data": {
            "text/html": [
              "<div>\n",
              "<style scoped>\n",
              "    .dataframe tbody tr th:only-of-type {\n",
              "        vertical-align: middle;\n",
              "    }\n",
              "\n",
              "    .dataframe tbody tr th {\n",
              "        vertical-align: top;\n",
              "    }\n",
              "\n",
              "    .dataframe thead th {\n",
              "        text-align: right;\n",
              "    }\n",
              "</style>\n",
              "<table border=\"1\" class=\"dataframe\">\n",
              "  <thead>\n",
              "    <tr style=\"text-align: right;\">\n",
              "      <th></th>\n",
              "      <th>Country</th>\n",
              "      <th>Region</th>\n",
              "      <th>Population</th>\n",
              "      <th>Area (sq. mi.)</th>\n",
              "      <th>Pop. Density (per sq. mi.)</th>\n",
              "      <th>Coastline (coast/area ratio)</th>\n",
              "      <th>Net migration</th>\n",
              "      <th>Infant mortality (per 1000 births)</th>\n",
              "      <th>GDP ($ per capita)</th>\n",
              "      <th>Literacy (%)</th>\n",
              "      <th>Phones (per 1000)</th>\n",
              "      <th>Arable (%)</th>\n",
              "      <th>Crops (%)</th>\n",
              "      <th>Other (%)</th>\n",
              "      <th>Climate</th>\n",
              "      <th>Birthrate</th>\n",
              "      <th>Deathrate</th>\n",
              "      <th>Agriculture</th>\n",
              "      <th>Industry</th>\n",
              "      <th>Service</th>\n",
              "    </tr>\n",
              "  </thead>\n",
              "  <tbody>\n",
              "    <tr>\n",
              "      <th>0</th>\n",
              "      <td>Afghanistan</td>\n",
              "      <td>ASIA (EX. NEAR EAST)</td>\n",
              "      <td>31056997</td>\n",
              "      <td>647500</td>\n",
              "      <td>48,0</td>\n",
              "      <td>0,00</td>\n",
              "      <td>23,06</td>\n",
              "      <td>163,07</td>\n",
              "      <td>700.0</td>\n",
              "      <td>36,0</td>\n",
              "      <td>3,2</td>\n",
              "      <td>12,13</td>\n",
              "      <td>0,22</td>\n",
              "      <td>87,65</td>\n",
              "      <td>1</td>\n",
              "      <td>46,6</td>\n",
              "      <td>20,34</td>\n",
              "      <td>0,38</td>\n",
              "      <td>0,24</td>\n",
              "      <td>0,38</td>\n",
              "    </tr>\n",
              "    <tr>\n",
              "      <th>1</th>\n",
              "      <td>Albania</td>\n",
              "      <td>EASTERN EUROPE</td>\n",
              "      <td>3581655</td>\n",
              "      <td>28748</td>\n",
              "      <td>124,6</td>\n",
              "      <td>1,26</td>\n",
              "      <td>-4,93</td>\n",
              "      <td>21,52</td>\n",
              "      <td>4500.0</td>\n",
              "      <td>86,5</td>\n",
              "      <td>71,2</td>\n",
              "      <td>21,09</td>\n",
              "      <td>4,42</td>\n",
              "      <td>74,49</td>\n",
              "      <td>3</td>\n",
              "      <td>15,11</td>\n",
              "      <td>5,22</td>\n",
              "      <td>0,232</td>\n",
              "      <td>0,188</td>\n",
              "      <td>0,579</td>\n",
              "    </tr>\n",
              "    <tr>\n",
              "      <th>2</th>\n",
              "      <td>Algeria</td>\n",
              "      <td>NORTHERN AFRICA</td>\n",
              "      <td>32930091</td>\n",
              "      <td>2381740</td>\n",
              "      <td>13,8</td>\n",
              "      <td>0,04</td>\n",
              "      <td>-0,39</td>\n",
              "      <td>31</td>\n",
              "      <td>6000.0</td>\n",
              "      <td>70,0</td>\n",
              "      <td>78,1</td>\n",
              "      <td>3,22</td>\n",
              "      <td>0,25</td>\n",
              "      <td>96,53</td>\n",
              "      <td>1</td>\n",
              "      <td>17,14</td>\n",
              "      <td>4,61</td>\n",
              "      <td>0,101</td>\n",
              "      <td>0,6</td>\n",
              "      <td>0,298</td>\n",
              "    </tr>\n",
              "    <tr>\n",
              "      <th>3</th>\n",
              "      <td>American Samoa</td>\n",
              "      <td>OCEANIA</td>\n",
              "      <td>57794</td>\n",
              "      <td>199</td>\n",
              "      <td>290,4</td>\n",
              "      <td>58,29</td>\n",
              "      <td>-20,71</td>\n",
              "      <td>9,27</td>\n",
              "      <td>8000.0</td>\n",
              "      <td>97,0</td>\n",
              "      <td>259,5</td>\n",
              "      <td>10</td>\n",
              "      <td>15</td>\n",
              "      <td>75</td>\n",
              "      <td>2</td>\n",
              "      <td>22,46</td>\n",
              "      <td>3,27</td>\n",
              "      <td>NaN</td>\n",
              "      <td>NaN</td>\n",
              "      <td>NaN</td>\n",
              "    </tr>\n",
              "    <tr>\n",
              "      <th>4</th>\n",
              "      <td>Andorra</td>\n",
              "      <td>WESTERN EUROPE</td>\n",
              "      <td>71201</td>\n",
              "      <td>468</td>\n",
              "      <td>152,1</td>\n",
              "      <td>0,00</td>\n",
              "      <td>6,6</td>\n",
              "      <td>4,05</td>\n",
              "      <td>19000.0</td>\n",
              "      <td>100,0</td>\n",
              "      <td>497,2</td>\n",
              "      <td>2,22</td>\n",
              "      <td>0</td>\n",
              "      <td>97,78</td>\n",
              "      <td>3</td>\n",
              "      <td>8,71</td>\n",
              "      <td>6,25</td>\n",
              "      <td>NaN</td>\n",
              "      <td>NaN</td>\n",
              "      <td>NaN</td>\n",
              "    </tr>\n",
              "  </tbody>\n",
              "</table>\n",
              "</div>"
            ],
            "text/plain": [
              "           Country                               Region  ...  Industry  Service\n",
              "0     Afghanistan         ASIA (EX. NEAR EAST)           ...      0,24     0,38\n",
              "1         Albania   EASTERN EUROPE                       ...     0,188    0,579\n",
              "2         Algeria   NORTHERN AFRICA                      ...       0,6    0,298\n",
              "3  American Samoa   OCEANIA                              ...       NaN      NaN\n",
              "4         Andorra   WESTERN EUROPE                       ...       NaN      NaN\n",
              "\n",
              "[5 rows x 20 columns]"
            ]
          },
          "metadata": {
            "tags": []
          },
          "execution_count": 233
        }
      ]
    },
    {
      "cell_type": "code",
      "metadata": {
        "id": "5GHrLgarhCDW",
        "colab_type": "code",
        "outputId": "445d9f6f-064d-4a71-cf0c-64e19fcb197b",
        "colab": {
          "base_uri": "https://localhost:8080/",
          "height": 108
        }
      },
      "source": [
        "for index, country in enumerate(countries_details['Country']):\n",
        "  countries_details['Country'][index] = country.strip()"
      ],
      "execution_count": 276,
      "outputs": [
        {
          "output_type": "stream",
          "text": [
            "/usr/local/lib/python3.6/dist-packages/ipykernel_launcher.py:2: SettingWithCopyWarning: \n",
            "A value is trying to be set on a copy of a slice from a DataFrame\n",
            "\n",
            "See the caveats in the documentation: https://pandas.pydata.org/pandas-docs/stable/user_guide/indexing.html#returning-a-view-versus-a-copy\n",
            "  \n"
          ],
          "name": "stderr"
        }
      ]
    },
    {
      "cell_type": "code",
      "metadata": {
        "id": "RBMX7wfqcqls",
        "colab_type": "code",
        "colab": {}
      },
      "source": [
        "countries_combined = pd.merge(countries_details, countries_accidents, on='Country', how='left')\n"
      ],
      "execution_count": 0,
      "outputs": []
    },
    {
      "cell_type": "code",
      "metadata": {
        "id": "hdqOr2R6oLHQ",
        "colab_type": "code",
        "colab": {
          "base_uri": "https://localhost:8080/",
          "height": 35
        },
        "outputId": "42b20360-a4cb-45e6-eb88-9cf24f00b811"
      },
      "source": [
        "countries_accidents['Country'][0] == countries_details['Country'][0]"
      ],
      "execution_count": 311,
      "outputs": [
        {
          "output_type": "execute_result",
          "data": {
            "text/plain": [
              "True"
            ]
          },
          "metadata": {
            "tags": []
          },
          "execution_count": 311
        }
      ]
    },
    {
      "cell_type": "code",
      "metadata": {
        "id": "Vp63lp5bYWP8",
        "colab_type": "code",
        "colab": {
          "base_uri": "https://localhost:8080/",
          "height": 198
        },
        "outputId": "7e82860f-a754-4d6c-dd96-064c58fac0ef"
      },
      "source": [
        "countries_accidents.head()"
      ],
      "execution_count": 312,
      "outputs": [
        {
          "output_type": "execute_result",
          "data": {
            "text/html": [
              "<div>\n",
              "<style scoped>\n",
              "    .dataframe tbody tr th:only-of-type {\n",
              "        vertical-align: middle;\n",
              "    }\n",
              "\n",
              "    .dataframe tbody tr th {\n",
              "        vertical-align: top;\n",
              "    }\n",
              "\n",
              "    .dataframe thead th {\n",
              "        text-align: right;\n",
              "    }\n",
              "</style>\n",
              "<table border=\"1\" class=\"dataframe\">\n",
              "  <thead>\n",
              "    <tr style=\"text-align: right;\">\n",
              "      <th></th>\n",
              "      <th>Country</th>\n",
              "      <th>death_rate</th>\n",
              "    </tr>\n",
              "  </thead>\n",
              "  <tbody>\n",
              "    <tr>\n",
              "      <th>0</th>\n",
              "      <td>Afghanistan</td>\n",
              "      <td>15.5</td>\n",
              "    </tr>\n",
              "    <tr>\n",
              "      <th>1</th>\n",
              "      <td>Albania</td>\n",
              "      <td>15.1</td>\n",
              "    </tr>\n",
              "    <tr>\n",
              "      <th>2</th>\n",
              "      <td>Algeria</td>\n",
              "      <td>23.8</td>\n",
              "    </tr>\n",
              "    <tr>\n",
              "      <th>3</th>\n",
              "      <td>Andorra</td>\n",
              "      <td>7.6</td>\n",
              "    </tr>\n",
              "    <tr>\n",
              "      <th>4</th>\n",
              "      <td>Angola</td>\n",
              "      <td>26.9</td>\n",
              "    </tr>\n",
              "  </tbody>\n",
              "</table>\n",
              "</div>"
            ],
            "text/plain": [
              "       Country  death_rate\n",
              "0  Afghanistan        15.5\n",
              "1      Albania        15.1\n",
              "2      Algeria        23.8\n",
              "3      Andorra         7.6\n",
              "4       Angola        26.9"
            ]
          },
          "metadata": {
            "tags": []
          },
          "execution_count": 312
        }
      ]
    },
    {
      "cell_type": "code",
      "metadata": {
        "id": "xnV1uJE0eGjn",
        "colab_type": "code",
        "colab": {}
      },
      "source": [
        "countries_combined = countries_combined[countries_combined['death_rate'].notna()]"
      ],
      "execution_count": 0,
      "outputs": []
    },
    {
      "cell_type": "code",
      "metadata": {
        "id": "PC6YFGaAeKSw",
        "colab_type": "code",
        "colab": {}
      },
      "source": [
        "countries_combined = countries_combined.sort_values(by='GDP ($ per capita)', ascending=True)"
      ],
      "execution_count": 0,
      "outputs": []
    },
    {
      "cell_type": "code",
      "metadata": {
        "id": "1IgKTt5fgvK9",
        "colab_type": "code",
        "colab": {
          "base_uri": "https://localhost:8080/",
          "height": 755
        },
        "outputId": "d1a3db2f-d4bf-4f49-ee82-7d66b9d6b4c0"
      },
      "source": [
        "countries_combined"
      ],
      "execution_count": 315,
      "outputs": [
        {
          "output_type": "execute_result",
          "data": {
            "text/html": [
              "<div>\n",
              "<style scoped>\n",
              "    .dataframe tbody tr th:only-of-type {\n",
              "        vertical-align: middle;\n",
              "    }\n",
              "\n",
              "    .dataframe tbody tr th {\n",
              "        vertical-align: top;\n",
              "    }\n",
              "\n",
              "    .dataframe thead th {\n",
              "        text-align: right;\n",
              "    }\n",
              "</style>\n",
              "<table border=\"1\" class=\"dataframe\">\n",
              "  <thead>\n",
              "    <tr style=\"text-align: right;\">\n",
              "      <th></th>\n",
              "      <th>Country</th>\n",
              "      <th>Region</th>\n",
              "      <th>Population</th>\n",
              "      <th>Area (sq. mi.)</th>\n",
              "      <th>Pop. Density (per sq. mi.)</th>\n",
              "      <th>Coastline (coast/area ratio)</th>\n",
              "      <th>Net migration</th>\n",
              "      <th>Infant mortality (per 1000 births)</th>\n",
              "      <th>GDP ($ per capita)</th>\n",
              "      <th>Literacy (%)</th>\n",
              "      <th>Phones (per 1000)</th>\n",
              "      <th>Arable (%)</th>\n",
              "      <th>Crops (%)</th>\n",
              "      <th>Other (%)</th>\n",
              "      <th>Climate</th>\n",
              "      <th>Birthrate</th>\n",
              "      <th>Deathrate</th>\n",
              "      <th>Agriculture</th>\n",
              "      <th>Industry</th>\n",
              "      <th>Service</th>\n",
              "      <th>death_rate</th>\n",
              "    </tr>\n",
              "  </thead>\n",
              "  <tbody>\n",
              "    <tr>\n",
              "      <th>183</th>\n",
              "      <td>Sierra Leone</td>\n",
              "      <td>SUB-SAHARAN AFRICA</td>\n",
              "      <td>6005250</td>\n",
              "      <td>71740</td>\n",
              "      <td>83,7</td>\n",
              "      <td>0,56</td>\n",
              "      <td>0</td>\n",
              "      <td>143,64</td>\n",
              "      <td>500.0</td>\n",
              "      <td>31,4</td>\n",
              "      <td>4,0</td>\n",
              "      <td>6,98</td>\n",
              "      <td>0,89</td>\n",
              "      <td>92,13</td>\n",
              "      <td>2</td>\n",
              "      <td>45,76</td>\n",
              "      <td>23,03</td>\n",
              "      <td>0,49</td>\n",
              "      <td>0,31</td>\n",
              "      <td>0,21</td>\n",
              "      <td>27.3</td>\n",
              "    </tr>\n",
              "    <tr>\n",
              "      <th>188</th>\n",
              "      <td>Somalia</td>\n",
              "      <td>SUB-SAHARAN AFRICA</td>\n",
              "      <td>8863338</td>\n",
              "      <td>637657</td>\n",
              "      <td>13,9</td>\n",
              "      <td>0,47</td>\n",
              "      <td>5,37</td>\n",
              "      <td>116,7</td>\n",
              "      <td>500.0</td>\n",
              "      <td>37,8</td>\n",
              "      <td>11,3</td>\n",
              "      <td>1,67</td>\n",
              "      <td>0,04</td>\n",
              "      <td>98,29</td>\n",
              "      <td>1</td>\n",
              "      <td>45,13</td>\n",
              "      <td>16,63</td>\n",
              "      <td>0,65</td>\n",
              "      <td>0,1</td>\n",
              "      <td>0,25</td>\n",
              "      <td>25.4</td>\n",
              "    </tr>\n",
              "    <tr>\n",
              "      <th>125</th>\n",
              "      <td>Malawi</td>\n",
              "      <td>SUB-SAHARAN AFRICA</td>\n",
              "      <td>13013926</td>\n",
              "      <td>118480</td>\n",
              "      <td>109,8</td>\n",
              "      <td>0,00</td>\n",
              "      <td>0</td>\n",
              "      <td>103,32</td>\n",
              "      <td>600.0</td>\n",
              "      <td>62,7</td>\n",
              "      <td>7,9</td>\n",
              "      <td>23,38</td>\n",
              "      <td>1,49</td>\n",
              "      <td>75,13</td>\n",
              "      <td>2</td>\n",
              "      <td>43,13</td>\n",
              "      <td>19,33</td>\n",
              "      <td>0,342</td>\n",
              "      <td>0,158</td>\n",
              "      <td>0,499</td>\n",
              "      <td>35.0</td>\n",
              "    </tr>\n",
              "    <tr>\n",
              "      <th>33</th>\n",
              "      <td>Burundi</td>\n",
              "      <td>SUB-SAHARAN AFRICA</td>\n",
              "      <td>8090068</td>\n",
              "      <td>27830</td>\n",
              "      <td>290,7</td>\n",
              "      <td>0,00</td>\n",
              "      <td>-0,06</td>\n",
              "      <td>69,29</td>\n",
              "      <td>600.0</td>\n",
              "      <td>51,6</td>\n",
              "      <td>3,4</td>\n",
              "      <td>35,05</td>\n",
              "      <td>14,02</td>\n",
              "      <td>50,93</td>\n",
              "      <td>2</td>\n",
              "      <td>42,22</td>\n",
              "      <td>13,46</td>\n",
              "      <td>0,463</td>\n",
              "      <td>0,203</td>\n",
              "      <td>0,334</td>\n",
              "      <td>31.3</td>\n",
              "    </tr>\n",
              "    <tr>\n",
              "      <th>0</th>\n",
              "      <td>Afghanistan</td>\n",
              "      <td>ASIA (EX. NEAR EAST)</td>\n",
              "      <td>31056997</td>\n",
              "      <td>647500</td>\n",
              "      <td>48,0</td>\n",
              "      <td>0,00</td>\n",
              "      <td>23,06</td>\n",
              "      <td>163,07</td>\n",
              "      <td>700.0</td>\n",
              "      <td>36,0</td>\n",
              "      <td>3,2</td>\n",
              "      <td>12,13</td>\n",
              "      <td>0,22</td>\n",
              "      <td>87,65</td>\n",
              "      <td>1</td>\n",
              "      <td>46,6</td>\n",
              "      <td>20,34</td>\n",
              "      <td>0,38</td>\n",
              "      <td>0,24</td>\n",
              "      <td>0,38</td>\n",
              "      <td>15.5</td>\n",
              "    </tr>\n",
              "    <tr>\n",
              "      <th>...</th>\n",
              "      <td>...</td>\n",
              "      <td>...</td>\n",
              "      <td>...</td>\n",
              "      <td>...</td>\n",
              "      <td>...</td>\n",
              "      <td>...</td>\n",
              "      <td>...</td>\n",
              "      <td>...</td>\n",
              "      <td>...</td>\n",
              "      <td>...</td>\n",
              "      <td>...</td>\n",
              "      <td>...</td>\n",
              "      <td>...</td>\n",
              "      <td>...</td>\n",
              "      <td>...</td>\n",
              "      <td>...</td>\n",
              "      <td>...</td>\n",
              "      <td>...</td>\n",
              "      <td>...</td>\n",
              "      <td>...</td>\n",
              "      <td>...</td>\n",
              "    </tr>\n",
              "    <tr>\n",
              "      <th>54</th>\n",
              "      <td>Denmark</td>\n",
              "      <td>WESTERN EUROPE</td>\n",
              "      <td>5450661</td>\n",
              "      <td>43094</td>\n",
              "      <td>126,5</td>\n",
              "      <td>16,97</td>\n",
              "      <td>2,48</td>\n",
              "      <td>4,56</td>\n",
              "      <td>31100.0</td>\n",
              "      <td>100,0</td>\n",
              "      <td>614,6</td>\n",
              "      <td>54,02</td>\n",
              "      <td>0,19</td>\n",
              "      <td>45,79</td>\n",
              "      <td>3</td>\n",
              "      <td>11,13</td>\n",
              "      <td>10,36</td>\n",
              "      <td>0,018</td>\n",
              "      <td>0,246</td>\n",
              "      <td>0,735</td>\n",
              "      <td>3.5</td>\n",
              "    </tr>\n",
              "    <tr>\n",
              "      <th>196</th>\n",
              "      <td>Switzerland</td>\n",
              "      <td>WESTERN EUROPE</td>\n",
              "      <td>7523934</td>\n",
              "      <td>41290</td>\n",
              "      <td>182,2</td>\n",
              "      <td>0,00</td>\n",
              "      <td>4,05</td>\n",
              "      <td>4,39</td>\n",
              "      <td>32700.0</td>\n",
              "      <td>99,0</td>\n",
              "      <td>680,9</td>\n",
              "      <td>10,42</td>\n",
              "      <td>0,61</td>\n",
              "      <td>88,97</td>\n",
              "      <td>3</td>\n",
              "      <td>9,71</td>\n",
              "      <td>8,49</td>\n",
              "      <td>0,015</td>\n",
              "      <td>0,34</td>\n",
              "      <td>0,645</td>\n",
              "      <td>3.3</td>\n",
              "    </tr>\n",
              "    <tr>\n",
              "      <th>177</th>\n",
              "      <td>San Marino</td>\n",
              "      <td>WESTERN EUROPE</td>\n",
              "      <td>29251</td>\n",
              "      <td>61</td>\n",
              "      <td>479,5</td>\n",
              "      <td>0,00</td>\n",
              "      <td>10,98</td>\n",
              "      <td>5,73</td>\n",
              "      <td>34600.0</td>\n",
              "      <td>96,0</td>\n",
              "      <td>704,3</td>\n",
              "      <td>16,67</td>\n",
              "      <td>0</td>\n",
              "      <td>83,33</td>\n",
              "      <td>NaN</td>\n",
              "      <td>10,02</td>\n",
              "      <td>8,17</td>\n",
              "      <td>NaN</td>\n",
              "      <td>NaN</td>\n",
              "      <td>NaN</td>\n",
              "      <td>3.2</td>\n",
              "    </tr>\n",
              "    <tr>\n",
              "      <th>154</th>\n",
              "      <td>Norway</td>\n",
              "      <td>WESTERN EUROPE</td>\n",
              "      <td>4610820</td>\n",
              "      <td>323802</td>\n",
              "      <td>14,2</td>\n",
              "      <td>7,77</td>\n",
              "      <td>1,74</td>\n",
              "      <td>3,7</td>\n",
              "      <td>37800.0</td>\n",
              "      <td>100,0</td>\n",
              "      <td>461,7</td>\n",
              "      <td>2,87</td>\n",
              "      <td>0</td>\n",
              "      <td>97,13</td>\n",
              "      <td>3</td>\n",
              "      <td>11,46</td>\n",
              "      <td>9,4</td>\n",
              "      <td>0,021</td>\n",
              "      <td>0,415</td>\n",
              "      <td>0,564</td>\n",
              "      <td>3.8</td>\n",
              "    </tr>\n",
              "    <tr>\n",
              "      <th>121</th>\n",
              "      <td>Luxembourg</td>\n",
              "      <td>WESTERN EUROPE</td>\n",
              "      <td>474413</td>\n",
              "      <td>2586</td>\n",
              "      <td>183,5</td>\n",
              "      <td>0,00</td>\n",
              "      <td>8,97</td>\n",
              "      <td>4,81</td>\n",
              "      <td>55100.0</td>\n",
              "      <td>100,0</td>\n",
              "      <td>515,4</td>\n",
              "      <td>23,28</td>\n",
              "      <td>0,4</td>\n",
              "      <td>76,32</td>\n",
              "      <td>NaN</td>\n",
              "      <td>11,94</td>\n",
              "      <td>8,41</td>\n",
              "      <td>0,01</td>\n",
              "      <td>0,13</td>\n",
              "      <td>0,86</td>\n",
              "      <td>8.7</td>\n",
              "    </tr>\n",
              "  </tbody>\n",
              "</table>\n",
              "<p>157 rows × 21 columns</p>\n",
              "</div>"
            ],
            "text/plain": [
              "          Country                               Region  ...  Service  death_rate\n",
              "183  Sierra Leone  SUB-SAHARAN AFRICA                   ...     0,21        27.3\n",
              "188       Somalia  SUB-SAHARAN AFRICA                   ...     0,25        25.4\n",
              "125        Malawi  SUB-SAHARAN AFRICA                   ...    0,499        35.0\n",
              "33        Burundi  SUB-SAHARAN AFRICA                   ...    0,334        31.3\n",
              "0     Afghanistan        ASIA (EX. NEAR EAST)           ...     0,38        15.5\n",
              "..            ...                                  ...  ...      ...         ...\n",
              "54        Denmark  WESTERN EUROPE                       ...    0,735         3.5\n",
              "196   Switzerland  WESTERN EUROPE                       ...    0,645         3.3\n",
              "177    San Marino  WESTERN EUROPE                       ...      NaN         3.2\n",
              "154        Norway  WESTERN EUROPE                       ...    0,564         3.8\n",
              "121    Luxembourg  WESTERN EUROPE                       ...     0,86         8.7\n",
              "\n",
              "[157 rows x 21 columns]"
            ]
          },
          "metadata": {
            "tags": []
          },
          "execution_count": 315
        }
      ]
    },
    {
      "cell_type": "code",
      "metadata": {
        "id": "PUf__FcWjDzF",
        "colab_type": "code",
        "colab": {
          "base_uri": "https://localhost:8080/",
          "height": 295
        },
        "outputId": "fe175b9c-b08b-4095-98be-ea23ad0c752c"
      },
      "source": [
        "plt.plot(countries_combined['GDP ($ per capita)'], countries_combined['death_rate'])\n",
        "plt.xlabel('GDP')\n",
        "plt.ylabel('Deaths per 100,000 population')\n",
        "plt.title('Death rate vs GDP per capita')\n",
        "'''\n",
        "plt.tick_params(\n",
        "    axis='x',          # changes apply to the x-axis\n",
        "    which='both',      # both major and minor ticks are affected\n",
        "    bottom=False,      # ticks along the bottom edge are off\n",
        "    top=False,         # ticks along the top edge are off\n",
        "    labelbottom=False) # labels along the bottom edge are off\n",
        "    '''\n",
        "plt.show()"
      ],
      "execution_count": 286,
      "outputs": [
        {
          "output_type": "display_data",
          "data": {
            "image/png": "[encoded data removed]",
            "text/plain": [
              "<Figure size 432x288 with 1 Axes>"
            ]
          },
          "metadata": {
            "tags": [],
            "needs_background": "light"
          }
        }
      ]
    },
    {
      "cell_type": "code",
      "metadata": {
        "id": "HLGEBwB3nr4H",
        "colab_type": "code",
        "colab": {}
      },
      "source": [
        "countries_combined['Literacy (%)'] = countries_combined['Literacy (%)'].str.replace(',', '.')"
      ],
      "execution_count": 0,
      "outputs": []
    },
    {
      "cell_type": "code",
      "metadata": {
        "id": "-u3GXBz_qCJi",
        "colab_type": "code",
        "colab": {}
      },
      "source": [
        "countries_combined['Literacy (%)'] = pd.to_numeric(countries_combined['Literacy (%)'])"
      ],
      "execution_count": 0,
      "outputs": []
    },
    {
      "cell_type": "code",
      "metadata": {
        "id": "PDItSsQXk1hk",
        "colab_type": "code",
        "colab": {}
      },
      "source": [
        "coeff_matrix = countries_combined.corr(method='pearson')"
      ],
      "execution_count": 0,
      "outputs": []
    },
    {
      "cell_type": "code",
      "metadata": {
        "id": "vR55E6kGqF6a",
        "colab_type": "code",
        "colab": {
          "base_uri": "https://localhost:8080/",
          "height": 198
        },
        "outputId": "fdec15f9-a2b8-452c-d683-284c20ec8e52"
      },
      "source": [
        "coeff_matrix.sort_values(by='Literacy (%)')"
      ],
      "execution_count": 334,
      "outputs": [
        {
          "output_type": "execute_result",
          "data": {
            "text/html": [
              "<div>\n",
              "<style scoped>\n",
              "    .dataframe tbody tr th:only-of-type {\n",
              "        vertical-align: middle;\n",
              "    }\n",
              "\n",
              "    .dataframe tbody tr th {\n",
              "        vertical-align: top;\n",
              "    }\n",
              "\n",
              "    .dataframe thead th {\n",
              "        text-align: right;\n",
              "    }\n",
              "</style>\n",
              "<table border=\"1\" class=\"dataframe\">\n",
              "  <thead>\n",
              "    <tr style=\"text-align: right;\">\n",
              "      <th></th>\n",
              "      <th>Population</th>\n",
              "      <th>Area (sq. mi.)</th>\n",
              "      <th>GDP ($ per capita)</th>\n",
              "      <th>Literacy (%)</th>\n",
              "      <th>death_rate</th>\n",
              "    </tr>\n",
              "  </thead>\n",
              "  <tbody>\n",
              "    <tr>\n",
              "      <th>death_rate</th>\n",
              "      <td>0.022055</td>\n",
              "      <td>0.053209</td>\n",
              "      <td>-0.637629</td>\n",
              "      <td>-0.593997</td>\n",
              "      <td>1.000000</td>\n",
              "    </tr>\n",
              "    <tr>\n",
              "      <th>Population</th>\n",
              "      <td>1.000000</td>\n",
              "      <td>0.535121</td>\n",
              "      <td>-0.066221</td>\n",
              "      <td>-0.043834</td>\n",
              "      <td>0.022055</td>\n",
              "    </tr>\n",
              "    <tr>\n",
              "      <th>Area (sq. mi.)</th>\n",
              "      <td>0.535121</td>\n",
              "      <td>1.000000</td>\n",
              "      <td>0.058297</td>\n",
              "      <td>0.018113</td>\n",
              "      <td>0.053209</td>\n",
              "    </tr>\n",
              "    <tr>\n",
              "      <th>GDP ($ per capita)</th>\n",
              "      <td>-0.066221</td>\n",
              "      <td>0.058297</td>\n",
              "      <td>1.000000</td>\n",
              "      <td>0.512793</td>\n",
              "      <td>-0.637629</td>\n",
              "    </tr>\n",
              "    <tr>\n",
              "      <th>Literacy (%)</th>\n",
              "      <td>-0.043834</td>\n",
              "      <td>0.018113</td>\n",
              "      <td>0.512793</td>\n",
              "      <td>1.000000</td>\n",
              "      <td>-0.593997</td>\n",
              "    </tr>\n",
              "  </tbody>\n",
              "</table>\n",
              "</div>"
            ],
            "text/plain": [
              "                    Population  Area (sq. mi.)  ...  Literacy (%)  death_rate\n",
              "death_rate            0.022055        0.053209  ...     -0.593997    1.000000\n",
              "Population            1.000000        0.535121  ...     -0.043834    0.022055\n",
              "Area (sq. mi.)        0.535121        1.000000  ...      0.018113    0.053209\n",
              "GDP ($ per capita)   -0.066221        0.058297  ...      0.512793   -0.637629\n",
              "Literacy (%)         -0.043834        0.018113  ...      1.000000   -0.593997\n",
              "\n",
              "[5 rows x 5 columns]"
            ]
          },
          "metadata": {
            "tags": []
          },
          "execution_count": 334
        }
      ]
    },
    {
      "cell_type": "code",
      "metadata": {
        "id": "UqePfZpMrLNp",
        "colab_type": "code",
        "colab": {
          "base_uri": "https://localhost:8080/",
          "height": 295
        },
        "outputId": "e524aee1-2a98-410b-f759-f4f5f96ada0d"
      },
      "source": [
        "countries_combined.sort_values(by='Literacy (%)', ascending=True)\n",
        "plt.plot(countries_combined['death_rate'], countries_combined['Literacy (%)'], linestyle='', marker='o', markersize=3)\n",
        "plt.xlabel('Death Rate')\n",
        "plt.ylabel('Literacy %')\n",
        "plt.title('Literacy vs Death Rate')\n",
        "plt.grid()\n",
        "plt.show()"
      ],
      "execution_count": 348,
      "outputs": [
        {
          "output_type": "display_data",
          "data": {
            "image/png": "[encoded data removed]",
            "text/plain": [
              "<Figure size 432x288 with 1 Axes>"
            ]
          },
          "metadata": {
            "tags": [],
            "needs_background": "light"
          }
        }
      ]
    }
  ]
}